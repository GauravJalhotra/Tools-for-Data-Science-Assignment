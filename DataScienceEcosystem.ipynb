{
 "cells": [
  {
   "cell_type": "markdown",
   "id": "19926e3c-8df7-4a6f-af50-d86c0765cd21",
   "metadata": {},
   "source": [
    "# Data Science Tools and Ecosystem"
   ]
  },
  {
   "cell_type": "markdown",
   "id": "56a2ade2-ae8a-4d62-ab81-bd12f1b05080",
   "metadata": {},
   "source": [
    "In this notebook, Data Science Tools and Ecosystem are summarized."
   ]
  },
  {
   "cell_type": "markdown",
   "id": "f01d2c40-fb08-497a-9c58-2054e68783c6",
   "metadata": {},
   "source": [
    "#### Objectives:\n",
    "- Python\n",
    "- R\n",
    "- SQL\n",
    "- NoSQL\n",
    "- Scala"
   ]
  },
  {
   "cell_type": "markdown",
   "id": "53488d0d-da89-420c-b712-12ff110f8b4b",
   "metadata": {},
   "source": [
    "Some of the popular languages that Data Scientists use are:\n",
    "1. Python\n",
    "2. R\n",
    "3. SQL"
   ]
  },
  {
   "cell_type": "markdown",
   "id": "c16bc05c-ffa2-442f-8de8-67dcf7a0c466",
   "metadata": {},
   "source": [
    "Some of the commonly used libraries used by Data Scientists include:\n",
    "1. Numpy\n",
    "2. Pandas\n",
    "3. TensorFlow"
   ]
  },
  {
   "cell_type": "markdown",
   "id": "a613eb85-529d-48d3-b531-1ff6758d74ed",
   "metadata": {
    "tags": []
   },
   "source": [
    "| Data Sience Tools |\n",
    "| ----------------- |\n",
    "| Jupyter           |\n",
    "| RStudio           |\n",
    "| IBM Watson Studio |"
   ]
  },
  {
   "cell_type": "markdown",
   "id": "9016c1cb-11ce-482b-a9b5-5342bbe6488b",
   "metadata": {},
   "source": [
    "### Below are a few examples of evaluating arithmetic expression in Python."
   ]
  },
  {
   "cell_type": "code",
   "execution_count": 2,
   "id": "1f02b54a-e003-4443-b50d-034fd8e26ccd",
   "metadata": {
    "tags": []
   },
   "outputs": [],
   "source": [
    "# This is a simple arithmetic expression to multiply then add integers"
   ]
  },
  {
   "cell_type": "code",
   "execution_count": 3,
   "id": "b7bba18b-73f5-4db6-b310-4f0911379422",
   "metadata": {
    "tags": []
   },
   "outputs": [
    {
     "data": {
      "text/plain": [
       "17"
      ]
     },
     "execution_count": 3,
     "metadata": {},
     "output_type": "execute_result"
    }
   ],
   "source": [
    "(3*4)+5"
   ]
  },
  {
   "cell_type": "code",
   "execution_count": 4,
   "id": "c0ff293f-e7d5-4582-9685-573d5b213556",
   "metadata": {
    "tags": []
   },
   "outputs": [],
   "source": [
    "# This will convert 200 minutes to hours by dividing by 60"
   ]
  },
  {
   "cell_type": "code",
   "execution_count": 5,
   "id": "d2b27b75-f02e-461f-8f0f-c74d7d88d695",
   "metadata": {
    "tags": []
   },
   "outputs": [
    {
     "data": {
      "text/plain": [
       "3.3333333333333335"
      ]
     },
     "execution_count": 5,
     "metadata": {},
     "output_type": "execute_result"
    }
   ],
   "source": [
    "200/60"
   ]
  },
  {
   "cell_type": "markdown",
   "id": "a180db26-4fcb-4561-a880-00166c8bf828",
   "metadata": {},
   "source": [
    "## Author\n",
    "Gaurav Jalhotra"
   ]
  },
  {
   "cell_type": "code",
   "execution_count": null,
   "id": "5a7c57e6-6b4c-47d4-a889-66120bf8a9d0",
   "metadata": {},
   "outputs": [],
   "source": []
  }
 ],
 "metadata": {
  "kernelspec": {
   "display_name": "Python",
   "language": "python",
   "name": "conda-env-python-py"
  },
  "language_info": {
   "codemirror_mode": {
    "name": "ipython",
    "version": 3
   },
   "file_extension": ".py",
   "mimetype": "text/x-python",
   "name": "python",
   "nbconvert_exporter": "python",
   "pygments_lexer": "ipython3",
   "version": "3.7.12"
  }
 },
 "nbformat": 4,
 "nbformat_minor": 5
}
